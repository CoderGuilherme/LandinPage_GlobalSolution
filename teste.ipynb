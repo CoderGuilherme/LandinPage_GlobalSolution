{
 "cells": [
  {
   "cell_type": "code",
   "execution_count": null,
   "metadata": {},
   "outputs": [],
   "source": [
    "import folium\n",
    "from folium.plugins import HeatMap\n",
    "from folium import plugins\n",
    "import pandas as pd\n",
    "import streamlit as st\n",
    "import plotly.express as px\n"
   ]
  },
  {
   "cell_type": "code",
   "execution_count": null,
   "metadata": {},
   "outputs": [],
   "source": [
    "st.set_page_config(layout = \"wide\")"
   ]
  },
  {
   "cell_type": "code",
   "execution_count": null,
   "metadata": {},
   "outputs": [],
   "source": [
    "data = pd.read_excel(\"/data_registros.xlsx\")\n",
    "\n",
    "data[\"Data\"] = pd.to_datetime(data[\"Data\"])\n",
    "data = data.sort_values(\"Data\")\n",
    "\n",
    "data[\"Month\"] = data[\"Data\"].aplly(lambda x: str(x.year) + \"-\" + str(x.month))\n",
    "\n",
    "month = st.sidebar.selectbox(\"Mês\", data[\"Month\"].unque())\n",
    "\n",
    "df_filter = data[data[\"Mounth\"] == month]\n",
    "\n",
    "df_filter\n",
    "\n",
    "#layout\n",
    "\n",
    "co1, col2 = st.columuns(2)\n",
    "col3 = st.columns(1)\n"
   ]
  }
 ],
 "metadata": {
  "language_info": {
   "name": "python"
  },
  "orig_nbformat": 4
 },
 "nbformat": 4,
 "nbformat_minor": 2
}
